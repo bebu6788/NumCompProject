{
 "cells": [
  {
   "cell_type": "markdown",
   "id": "8a631051-b726-4f58-9341-f5334dd43318",
   "metadata": {},
   "source": [
    "https://docs.scipy.org/doc/scipy/reference/integrate.html"
   ]
  },
  {
   "cell_type": "code",
   "execution_count": 1,
   "id": "aeab6237-a797-45d9-a43d-0f549371fcdf",
   "metadata": {},
   "outputs": [],
   "source": [
    "import numpy as np\n",
    "from scipy.integrate import quad, fixed_quad, quadrature, romberg, trapz, cumtrapz, simps\n",
    "import timeit\n",
    "\n",
    "def testIntegralMethods(integrand, a, b):\n",
    "    global quad_result, fixed_quad_result, quadrature_result, romberg_result, trapz_result, cumtrapz_result, simps_result\n",
    "    global quad_time, fixed_quad_time, quadrature_time, romberg_time, trapz_time, cumtrapz_time, simps_time\n",
    "\n",
    "    # adaptive quadrature using QUADPACK\n",
    "    start_time = timeit.default_timer()\n",
    "    quad_result= quad(integrand, a, b)[0]\n",
    "    quad_time = timeit.default_timer() - start_time\n",
    "\n",
    "    # fixed-order Gaussian quadrature\n",
    "    start_time = timeit.default_timer()\n",
    "    fixed_quad_result = fixed_quad(integrand, a, b, n=100)[0] \n",
    "    #The higher the value of n, the more accurate the result of the integration, but also the more computational time required\n",
    "    fixed_quad_time = timeit.default_timer() - start_time\n",
    "\n",
    "    # compute a definite integral using fixed-tolerance Gaussian quadrature\n",
    "    start_time = timeit.default_timer()\n",
    "    quadrature_result = quadrature(integrand, a, b)[0]\n",
    "    quadrature_time = timeit.default_timer() - start_time\n",
    "\n",
    "    # adaptive Romberg quadrature\n",
    "    start_time = timeit.default_timer()\n",
    "    romberg_result = romberg(integrand, a, b)\n",
    "    romberg_time = timeit.default_timer() - start_time\n",
    "\n",
    "    # integrate along the given axis using the composite trapezoidal rule\n",
    "    x = np.linspace(a, b, num=1000)\n",
    "    y = integrand(x)\n",
    "    start_time = timeit.default_timer()\n",
    "    trapz_result = trapz(y, x)\n",
    "    trapz_time = timeit.default_timer() - start_time\n",
    "\n",
    "    # cumulative integration for sampled data\n",
    "    start_time = timeit.default_timer()\n",
    "    cumtrapz_result = cumtrapz(y, x, initial=0)[-1] \n",
    "    #The [-1] index selects the last element which is the final cumulative trapezoidal integration value \n",
    "    cumtrapz_time = timeit.default_timer() - start_time\n",
    "\n",
    "    # composite Simpson’s rule of integration\n",
    "    start_time = timeit.default_timer()\n",
    "    simps_result = simps(y, x)\n",
    "    simps_time = timeit.default_timer() - start_time"
   ]
  },
  {
   "cell_type": "code",
   "execution_count": 7,
   "id": "7bc401ad-2f0e-4307-990c-413668097407",
   "metadata": {},
   "outputs": [],
   "source": [
    "def printResults(exact_integral):\n",
    "    print(\"Method           Result               Time (sec)        Error\")\n",
    "    print(\"---------------------------------------------------------------\")\n",
    "    print(f\"quad             {quad_result:20.10f}   {quad_time:10.6f}   {np.abs(quad_result - exact_integral):.10f}\")\n",
    "    print(f\"fixed_quad       {fixed_quad_result:20.10f}   {fixed_quad_time:10.6f}   {np.abs(fixed_quad_result - exact_integral):.10f}\")\n",
    "    print(f\"quadrature       {quadrature_result:20.10f}   {quadrature_time:10.6f}   {np.abs(quadrature_result - exact_integral):.10f}\")\n",
    "    print(f\"romberg          {romberg_result:20.10f}   {romberg_time:10.6f}   {np.abs(romberg_result - exact_integral):.10f}\")\n",
    "    print(f\"trapz            {trapz_result:20.10f}   {trapz_time:10.6f}   {np.abs(trapz_result - exact_integral):.10f}\")\n",
    "    print(f\"cumtrapz         {cumtrapz_result:20.10f}   {cumtrapz_time:10.6f}   {np.abs(cumtrapz_result - exact_integral):.10f}\")\n",
    "    print(f\"simps            {simps_result:20.10f}   {simps_time:10.6f}   {np.abs(simps_result - exact_integral):.10f}\")"
   ]
  },
  {
   "cell_type": "markdown",
   "id": "13e2a0d2-13b3-4353-a429-3086d9c1cfd0",
   "metadata": {},
   "source": [
    "$\\int _0^{10}\\:e^{-x}sin\\left(x\\right)$"
   ]
  },
  {
   "cell_type": "code",
   "execution_count": 3,
   "id": "68a8a8ac-3d0e-4bd8-8c49-29e43aee3d37",
   "metadata": {},
   "outputs": [],
   "source": [
    "# Define the integrand function\n",
    "def integrand1(x):\n",
    "    return np.exp(-x) * np.sin(x)"
   ]
  },
  {
   "cell_type": "code",
   "execution_count": 4,
   "id": "37ea1a65-ccb5-4acf-8c4e-828a2c627ced",
   "metadata": {},
   "outputs": [],
   "source": [
    "testIntegralMethods(integrand1, 0, 10)"
   ]
  },
  {
   "cell_type": "code",
   "execution_count": 5,
   "id": "77c90bbf-dc43-4515-8682-4d2bf7effd4c",
   "metadata": {},
   "outputs": [],
   "source": [
    "exact_integral = 0.5000313961543547"
   ]
  },
  {
   "cell_type": "code",
   "execution_count": 6,
   "id": "5d382bbb-ce6f-4879-80a6-e757763a6491",
   "metadata": {},
   "outputs": [
    {
     "name": "stdout",
     "output_type": "stream",
     "text": [
      "Method           Result               Time (sec)        Error\n",
      "---------------------------------------------------------------\n",
      "quad                     0.5000313962     0.000146   0.0000000000\n",
      "fixed_quad               0.5000313962     0.000989   0.0000000000\n",
      "quadrature               0.5000313962     0.001395   0.0000000000\n",
      "romberg                  0.5000313962     0.000524   0.0000000000\n",
      "trapz                    0.5000230460     0.000056   0.0000083501\n",
      "cumtrapz                 0.5000230460     0.000079   0.0000083501\n",
      "simps                    0.5000313129     0.000209   0.0000000833\n"
     ]
    }
   ],
   "source": [
    "printResults(exact_integral)"
   ]
  },
  {
   "cell_type": "markdown",
   "id": "a171a766-b3cf-4848-9988-7836630ff1dd",
   "metadata": {},
   "source": [
    "$\\int _{-5}^{5}\\frac{1}{\\left(x^2+1\\right)^2}$"
   ]
  },
  {
   "cell_type": "code",
   "execution_count": 7,
   "id": "0655d828-731b-4129-ad23-50d7aa77e83f",
   "metadata": {},
   "outputs": [],
   "source": [
    "def integrand2(x):\n",
    "    return (1 / (x**2 + 1)**2)"
   ]
  },
  {
   "cell_type": "code",
   "execution_count": 8,
   "id": "f0458c84-032e-4fb6-a4f2-949a7c860756",
   "metadata": {},
   "outputs": [
    {
     "name": "stdout",
     "output_type": "stream",
     "text": [
      "Method           Result               Time (sec)        Error\n",
      "---------------------------------------------------------------\n",
      "quad                     1.5657084593     0.000097   0.0000000000\n",
      "fixed_quad               1.5657084593     0.000115   0.0000000000\n",
      "quadrature               1.5657083335     0.008863   0.0000001258\n",
      "romberg                  1.5657084593     0.000618   0.0000000000\n",
      "trapz                    1.5657084402     0.000110   0.0000000190\n",
      "cumtrapz                 1.5657084402     0.000333   0.0000000190\n",
      "simps                    1.5657084593     0.000654   0.0000000001\n"
     ]
    },
    {
     "name": "stderr",
     "output_type": "stream",
     "text": [
      "/opt/conda/lib/python3.10/site-packages/scipy/integrate/_quadrature.py:276: AccuracyWarning: maxiter (50) exceeded. Latest difference = 3.094488e-07\n",
      "  warnings.warn(\n"
     ]
    }
   ],
   "source": [
    "testIntegralMethods(integrand2, -5, 5)\n",
    "exact_integral = 1.565708459252708\n",
    "printResults(exact_integral);"
   ]
  },
  {
   "cell_type": "markdown",
   "id": "ce6b8a07-5969-4f9e-a6a3-9045e2f2158f",
   "metadata": {},
   "source": [
    "$\\int _{-5}^{5}\\frac{1}{(x^2 + 1)^2 + 100}$"
   ]
  },
  {
   "cell_type": "code",
   "execution_count": 9,
   "id": "e81e5644-f8e0-4ce6-b0e5-2e06c4da915f",
   "metadata": {},
   "outputs": [],
   "source": [
    "def integrand3(x):\n",
    "    return (1 / ((x**2 + 1)**2 + 100))"
   ]
  },
  {
   "cell_type": "code",
   "execution_count": 10,
   "id": "db49a9f9-3479-4033-9f70-5a4e79d9f438",
   "metadata": {},
   "outputs": [
    {
     "name": "stdout",
     "output_type": "stream",
     "text": [
      "Method           Result               Time (sec)        Error\n",
      "---------------------------------------------------------------\n",
      "quad                     0.0617042726     0.000047   0.0000000000\n",
      "fixed_quad               0.0617042726     0.000088   0.0000000000\n",
      "quadrature               0.0617042711     0.000383   0.0000000015\n",
      "romberg                  0.0617042730     0.000210   0.0000000005\n",
      "trapz                    0.0617042581     0.000082   0.0000000144\n",
      "cumtrapz                 0.0617042581     0.000155   0.0000000144\n",
      "simps                    0.0617042726     0.000243   0.0000000001\n"
     ]
    }
   ],
   "source": [
    "testIntegralMethods(integrand3, -5, 5)\n",
    "exact_integral = 0.06170427257021484\n",
    "printResults(exact_integral);"
   ]
  },
  {
   "cell_type": "markdown",
   "id": "213bd306-66c1-4c8b-a969-e0efad7c0670",
   "metadata": {},
   "source": [
    "$\\int _0^{50} \\frac{1}{((x^2 + 1)^2 + 10000)}$"
   ]
  },
  {
   "cell_type": "code",
   "execution_count": 11,
   "id": "b737dc73-c909-4955-943a-9c71a381ffe6",
   "metadata": {},
   "outputs": [],
   "source": [
    "def integrand4(x):\n",
    "    return (1 / ((x**2 + 1)**2 + 10000))"
   ]
  },
  {
   "cell_type": "code",
   "execution_count": 12,
   "id": "393c94b3-8af0-4601-af81-a5aa162486a8",
   "metadata": {},
   "outputs": [
    {
     "name": "stdout",
     "output_type": "stream",
     "text": [
      "Method           Result               Time (sec)        Error\n",
      "---------------------------------------------------------------\n",
      "quad                     0.0011024623     0.000059   0.0000000000\n",
      "fixed_quad               0.0011024623     0.000104   0.0000000000\n",
      "quadrature               0.0011024489     0.000343   0.0000000133\n",
      "romberg                  0.0011024623     0.000275   0.0000000000\n",
      "trapz                    0.0011024623     0.000054   0.0000000000\n",
      "cumtrapz                 0.0011024623     0.000065   0.0000000000\n",
      "simps                    0.0011024623     0.000198   0.0000000000\n"
     ]
    }
   ],
   "source": [
    "testIntegralMethods(integrand4, 0, 50)\n",
    "exact_integral = 0.001102462266175979\n",
    "printResults(exact_integral);"
   ]
  },
  {
   "cell_type": "markdown",
   "id": "9cb57016-06a6-466b-b658-64fac055433a",
   "metadata": {},
   "source": [
    "$\\int _0^{50} \\frac{x}{((x^2 + 1)^2 + 10000)}$"
   ]
  },
  {
   "cell_type": "code",
   "execution_count": 13,
   "id": "34477b7a-8c00-49d6-8916-765e39287811",
   "metadata": {},
   "outputs": [],
   "source": [
    "def integrand5(x):\n",
    "    return (x / ((x**2 + 1)**2 + 10000))"
   ]
  },
  {
   "cell_type": "code",
   "execution_count": 14,
   "id": "40789458-7df6-4b9a-ade0-385e1d71c02d",
   "metadata": {},
   "outputs": [
    {
     "name": "stdout",
     "output_type": "stream",
     "text": [
      "Method           Result               Time (sec)        Error\n",
      "---------------------------------------------------------------\n",
      "quad                     0.0076041697     0.000095   0.0000000000\n",
      "fixed_quad               0.0076041697     0.000135   0.0000000000\n",
      "quadrature               0.0076041676     0.000613   0.0000000021\n",
      "romberg                  0.0076041697     0.000281   0.0000000000\n",
      "trapz                    0.0076041487     0.000061   0.0000000210\n",
      "cumtrapz                 0.0076041487     0.000073   0.0000000210\n",
      "simps                    0.0076041697     0.000252   0.0000000000\n"
     ]
    }
   ],
   "source": [
    "testIntegralMethods(integrand5, 0, 50)\n",
    "exact_integral = 0.007604169705244061\n",
    "printResults(exact_integral);"
   ]
  },
  {
   "cell_type": "markdown",
   "id": "73eef733-13b4-42a6-b851-4c0f88d8661e",
   "metadata": {},
   "source": [
    "$\\int _0^{50}\\frac{x^e}{100}$"
   ]
  },
  {
   "cell_type": "code",
   "execution_count": 15,
   "id": "9f68f80f-0ce1-479a-ae4d-e07b23c1baf1",
   "metadata": {},
   "outputs": [],
   "source": [
    "def integrand6(x):\n",
    "    return x**np.e / 100"
   ]
  },
  {
   "cell_type": "code",
   "execution_count": 16,
   "id": "d5b995f1-6e74-42b1-8797-24de6bf9d2b9",
   "metadata": {},
   "outputs": [
    {
     "name": "stdout",
     "output_type": "stream",
     "text": [
      "Method           Result               Time (sec)        Error\n",
      "---------------------------------------------------------------\n",
      "quad                  5583.5060368221     0.000036   0.0000000896\n",
      "fixed_quad            5583.5060369117     0.000114   0.0000000000\n",
      "quadrature            5583.5060811091     0.000218   0.0000441974\n",
      "romberg               5583.5060356967     0.000266   0.0000012150\n",
      "trapz                 5583.5107491980     0.000057   0.0047122863\n",
      "cumtrapz              5583.5107491980     0.000066   0.0047122863\n",
      "simps                 5583.5060409767     0.000199   0.0000040650\n"
     ]
    }
   ],
   "source": [
    "testIntegralMethods(integrand6, 0, 50)\n",
    "exact_integral = 5583.50603691169\n",
    "printResults(exact_integral);"
   ]
  },
  {
   "cell_type": "markdown",
   "id": "0398e232-9329-4b67-8cf2-0dd91a67c7da",
   "metadata": {},
   "source": [
    "$\\int _0^{500}\\frac{x^2}{(x^2 + 0.001)^2 + 10000}$"
   ]
  },
  {
   "cell_type": "code",
   "execution_count": 17,
   "id": "335c90f6-ba7b-4fcb-a9c1-2399d0aef5dd",
   "metadata": {},
   "outputs": [],
   "source": [
    "def integrand7(x):\n",
    "    return x**2 / ((x**2 + 0.001)**2 + 10000)"
   ]
  },
  {
   "cell_type": "code",
   "execution_count": 18,
   "id": "8dc2555a-6d68-41cf-836d-e1fbbf567db5",
   "metadata": {},
   "outputs": [
    {
     "name": "stdout",
     "output_type": "stream",
     "text": [
      "Method           Result               Time (sec)        Error\n",
      "---------------------------------------------------------------\n",
      "quad                     0.1090715182     0.000122   0.0000000000\n",
      "fixed_quad               0.1090715182     0.000124   0.0000000000\n",
      "quadrature               0.1090670275     0.001413   0.0000044906\n",
      "romberg                  0.1090715186     0.001140   0.0000000004\n",
      "trapz                    0.1090715178     0.000083   0.0000000003\n",
      "cumtrapz                 0.1090715178     0.000106   0.0000000003\n",
      "simps                    0.1090725630     0.000262   0.0000010448\n"
     ]
    },
    {
     "name": "stderr",
     "output_type": "stream",
     "text": [
      "/opt/conda/lib/python3.10/site-packages/scipy/integrate/_quadrature.py:276: AccuracyWarning: maxiter (50) exceeded. Latest difference = 1.853109e-06\n",
      "  warnings.warn(\n",
      "/opt/conda/lib/python3.10/site-packages/scipy/integrate/_quadrature.py:855: AccuracyWarning: divmax (10) exceeded. Latest difference = 4.613400e-07\n",
      "  warnings.warn(\n"
     ]
    }
   ],
   "source": [
    "testIntegralMethods(integrand7, 0, 500)\n",
    "exact_integral = 0.1090715181643136\n",
    "printResults(exact_integral);"
   ]
  },
  {
   "cell_type": "markdown",
   "id": "4c1be2f2-38ab-4d67-b88f-5cb9b162a69a",
   "metadata": {},
   "source": [
    "$\\int _0^{10}\\frac{\\sin(\\sqrt{x}+1)\\cdot e^{\\sqrt{x}}}{\\sqrt{x}}$"
   ]
  },
  {
   "cell_type": "code",
   "execution_count": 19,
   "id": "93035974-879c-42f1-8f10-2e8f808c045b",
   "metadata": {},
   "outputs": [],
   "source": [
    "def integrand8(x):\n",
    "    return (np.sin(np.sqrt(x) + 1) * np.exp(np.sqrt(x))) / np.sqrt(x)"
   ]
  },
  {
   "cell_type": "code",
   "execution_count": 20,
   "id": "772a47e4-e7f6-4d7f-b66c-c56819cb435f",
   "metadata": {},
   "outputs": [
    {
     "name": "stdout",
     "output_type": "stream",
     "text": [
      "Method           Result               Time (sec)        Error\n",
      "---------------------------------------------------------------\n",
      "quad                    -8.0897413281     0.001365   0.0000000000\n",
      "fixed_quad              -8.1127931258     0.000116   0.0230517978\n",
      "quadrature              -8.1356066996     0.001605   0.0458653715\n",
      "romberg                           nan     0.005336   nan\n",
      "trapz                             inf     0.000085   inf\n",
      "cumtrapz                          inf     0.000073   inf\n",
      "simps                             inf     0.000214   inf\n"
     ]
    },
    {
     "name": "stderr",
     "output_type": "stream",
     "text": [
      "/opt/conda/lib/python3.10/site-packages/scipy/integrate/_quadrature.py:276: AccuracyWarning: maxiter (50) exceeded. Latest difference = 9.260163e-04\n",
      "  warnings.warn(\n",
      "/tmp/ipykernel_289/2284280268.py:2: RuntimeWarning: divide by zero encountered in double_scalars\n",
      "  return (np.sin(np.sqrt(x) + 1) * np.exp(np.sqrt(x))) / np.sqrt(x)\n",
      "/opt/conda/lib/python3.10/site-packages/scipy/integrate/_quadrature.py:724: RuntimeWarning: invalid value encountered in double_scalars\n",
      "  return (tmp * c - b)/(tmp - 1.0)\n",
      "/opt/conda/lib/python3.10/site-packages/scipy/integrate/_quadrature.py:855: AccuracyWarning: divmax (10) exceeded. Latest difference = nan\n",
      "  warnings.warn(\n",
      "/tmp/ipykernel_289/2284280268.py:2: RuntimeWarning: divide by zero encountered in divide\n",
      "  return (np.sin(np.sqrt(x) + 1) * np.exp(np.sqrt(x))) / np.sqrt(x)\n"
     ]
    }
   ],
   "source": [
    "testIntegralMethods(integrand8, 0, 10)\n",
    "exact_integral = -8.089741328059247\n",
    "printResults(exact_integral);"
   ]
  },
  {
   "cell_type": "code",
   "execution_count": 21,
   "id": "626259d7-63f4-43bb-a4ec-9de3c4a10f94",
   "metadata": {},
   "outputs": [
    {
     "name": "stdout",
     "output_type": "stream",
     "text": [
      "Method           Result               Time (sec)        Error\n",
      "---------------------------------------------------------------\n",
      "quad                   -11.3915037049     0.000324   0.0000000000\n",
      "fixed_quad             -11.3915037049     0.000103   0.0000000000\n",
      "quadrature             -11.3915037252     0.000306   0.0000000203\n",
      "romberg                -11.3915037044     0.000737   0.0000000005\n",
      "trapz                  -11.3915087129     0.000085   0.0000050080\n",
      "cumtrapz               -11.3915087129     0.000184   0.0000050080\n",
      "simps                  -11.3915036964     0.001691   0.0000000085\n"
     ]
    }
   ],
   "source": [
    "testIntegralMethods(integrand8, 1, 10)\n",
    "exact_integral = -11.39150370488112\n",
    "printResults(exact_integral);"
   ]
  },
  {
   "cell_type": "code",
   "execution_count": 22,
   "id": "52cb851e-0b83-45d7-a3dd-1c58b0a688d4",
   "metadata": {},
   "outputs": [
    {
     "name": "stdout",
     "output_type": "stream",
     "text": [
      "Method           Result               Time (sec)        Error\n",
      "---------------------------------------------------------------\n",
      "quad                    -8.1443537379     0.002047   0.0000000000\n",
      "fixed_quad              -8.1455002311     0.000082   0.0011464932\n",
      "quadrature              -8.1561000771     0.001472   0.0117463392\n",
      "romberg                 -8.1248893132     0.005097   0.0194644247\n",
      "trapz                   -8.0915638770     0.000057   0.0527898609\n",
      "cumtrapz                -8.0915638770     0.000069   0.0527898609\n",
      "simps                   -8.1070263883     0.000196   0.0373273496\n"
     ]
    },
    {
     "name": "stderr",
     "output_type": "stream",
     "text": [
      "/opt/conda/lib/python3.10/site-packages/scipy/integrate/_quadrature.py:276: AccuracyWarning: maxiter (50) exceeded. Latest difference = 6.071416e-04\n",
      "  warnings.warn(\n",
      "/opt/conda/lib/python3.10/site-packages/scipy/integrate/_quadrature.py:855: AccuracyWarning: divmax (10) exceeded. Latest difference = 4.065932e-02\n",
      "  warnings.warn(\n"
     ]
    }
   ],
   "source": [
    "testIntegralMethods(integrand8, .001, 10)\n",
    "exact_integral = -8.144353737877261\n",
    "printResults(exact_integral);"
   ]
  },
  {
   "cell_type": "markdown",
   "id": "5402820e-2fa6-4b03-8159-e7f7ade8ac53",
   "metadata": {},
   "source": [
    "$\\int _{-1}^{1}\\frac{\\ln(x+1)}{x^2 + 1}$"
   ]
  },
  {
   "cell_type": "code",
   "execution_count": 3,
   "id": "0f7a32d2-5ab5-4d20-abdb-eb3847408c37",
   "metadata": {},
   "outputs": [],
   "source": [
    "def integrand9(x):\n",
    "    return np.log(x+1) / (x**2 + 1)"
   ]
  },
  {
   "cell_type": "code",
   "execution_count": 24,
   "id": "9cf582bd-1da0-4196-88f3-4a0df5f09725",
   "metadata": {},
   "outputs": [
    {
     "name": "stdout",
     "output_type": "stream",
     "text": [
      "Method           Result               Time (sec)        Error\n",
      "---------------------------------------------------------------\n",
      "quad                    -0.3715690716     0.000452   0.0000000000\n",
      "fixed_quad              -0.3715065638     0.000096   0.0000625078\n",
      "quadrature              -0.3713215545     0.001458   0.0002475171\n",
      "romberg                           nan     0.002229   nan\n",
      "trapz                            -inf     0.000062   inf\n",
      "cumtrapz                         -inf     0.000067   inf\n",
      "simps                            -inf     0.000202   inf\n"
     ]
    },
    {
     "name": "stderr",
     "output_type": "stream",
     "text": [
      "/opt/conda/lib/python3.10/site-packages/scipy/integrate/_quadrature.py:276: AccuracyWarning: maxiter (50) exceeded. Latest difference = 1.009918e-05\n",
      "  warnings.warn(\n",
      "/tmp/ipykernel_289/3248484395.py:2: RuntimeWarning: divide by zero encountered in log\n",
      "  return np.log(x+1) / (x**2 + 1)\n"
     ]
    }
   ],
   "source": [
    "testIntegralMethods(integrand9, -1, 1)\n",
    "exact_integral = -0.3715690716013185\n",
    "printResults(exact_integral);"
   ]
  },
  {
   "cell_type": "code",
   "execution_count": 5,
   "id": "a77e1409-9b18-4dab-8842-4b4c65058642",
   "metadata": {},
   "outputs": [
    {
     "name": "stdout",
     "output_type": "stream",
     "text": [
      "Integral value: -0.3833796105750773 -0.385924749582953\n"
     ]
    }
   ],
   "source": [
    "# exclude x=-1 by adding a small positive offset\n",
    "x_vals = np.linspace(-1+1e-16, 1, num=1000)   \n",
    "y_vals = integrand9(x_vals)\n",
    "\n",
    "integral1 = simps(y_vals, x_vals)\n",
    "integral2 = trapz(y_vals, x_vals)\n",
    "print(\"Integral value:\", integral1, integral2)"
   ]
  },
  {
   "cell_type": "markdown",
   "id": "182fa3bd-2f9e-489f-ba46-f89ee4277719",
   "metadata": {},
   "source": [
    "$\\int _{1000}^{\\infty}\\frac{1}{100x^3}$"
   ]
  },
  {
   "cell_type": "code",
   "execution_count": 26,
   "id": "957b51d1-b289-4162-b097-d3991ef321db",
   "metadata": {},
   "outputs": [],
   "source": [
    "def integrand10(x):\n",
    "    return 1/(100 * x**3)"
   ]
  },
  {
   "cell_type": "code",
   "execution_count": 27,
   "id": "f377dfac-9ea2-4f66-bbbb-2134868d795d",
   "metadata": {},
   "outputs": [
    {
     "data": {
      "text/plain": [
       "5.156077609080847e-09"
      ]
     },
     "execution_count": 27,
     "metadata": {},
     "output_type": "execute_result"
    }
   ],
   "source": [
    "quad(integrand10, 1000, np.inf)[0]"
   ]
  },
  {
   "cell_type": "markdown",
   "id": "5d5ecc58-b57b-4c67-b0f7-0b187508f983",
   "metadata": {},
   "source": [
    "$\\int _{0}^{\\pi}\\frac{1}{\\sqrt{5^2 + x^2}}$"
   ]
  },
  {
   "cell_type": "code",
   "execution_count": 28,
   "id": "4a44e787-a8f9-41c9-96ed-618eb40ed174",
   "metadata": {},
   "outputs": [],
   "source": [
    "def integrand11(x):\n",
    "    return 1 / np.sqrt(5**2 + x**2)"
   ]
  },
  {
   "cell_type": "code",
   "execution_count": 29,
   "id": "446597dc-3503-4e37-9842-17606a55447e",
   "metadata": {},
   "outputs": [
    {
     "name": "stdout",
     "output_type": "stream",
     "text": [
      "Method           Result               Time (sec)        Error\n",
      "---------------------------------------------------------------\n",
      "quad                     0.5929556950     0.000079   0.0000000000\n",
      "fixed_quad               0.5929556950     0.000120   0.0000000000\n",
      "quadrature               0.5929556951     0.000141   0.0000000000\n",
      "romberg                  0.5929556951     0.000156   0.0000000000\n",
      "trapz                    0.5929556825     0.000110   0.0000000126\n",
      "cumtrapz                 0.5929556825     0.000189   0.0000000126\n",
      "simps                    0.5929556950     0.000228   0.0000000000\n"
     ]
    }
   ],
   "source": [
    "testIntegralMethods(integrand11, 0, np.pi)\n",
    "exact_integral = 0.5929556950394831\n",
    "printResults(exact_integral);"
   ]
  },
  {
   "cell_type": "markdown",
   "id": "e2385dfd-4f92-404a-85da-b95685814077",
   "metadata": {},
   "source": [
    "$\\int _{1000}^{\\pi}\\frac{1}{\\sqrt{5^2 + x^2}}$"
   ]
  },
  {
   "cell_type": "code",
   "execution_count": 6,
   "id": "726f8c8a-abd9-4f7a-b87f-01857494f134",
   "metadata": {},
   "outputs": [],
   "source": [
    "def integrand11a(x):\n",
    "    return 1 / np.sqrt(5**2 - x**2)"
   ]
  },
  {
   "cell_type": "code",
   "execution_count": null,
   "id": "09bfa81b-8b5d-49e9-ae4e-415f90f67393",
   "metadata": {},
   "outputs": [],
   "source": [
    "testIntegralMethods(integrand11, 0, np.pi)\n",
    "exact_integral = 0.5929556950394831\n",
    "printResults(exact_integral);"
   ]
  },
  {
   "cell_type": "markdown",
   "id": "bfbde1c4-29c5-4e51-9961-b21d220d0838",
   "metadata": {},
   "source": [
    "$\\int _{-\\infty}^{\\infty}\\frac{\\sin^4(x)}{x^4}$"
   ]
  },
  {
   "cell_type": "code",
   "execution_count": 30,
   "id": "d89252eb-1df9-401f-875f-7c896531e71e",
   "metadata": {},
   "outputs": [],
   "source": [
    "def integrand12(x):\n",
    "    return np.sin(x)**4 / x**4"
   ]
  },
  {
   "cell_type": "code",
   "execution_count": 31,
   "id": "4297a7e0-b72e-4b58-9243-4b74e91e3258",
   "metadata": {},
   "outputs": [
    {
     "name": "stdout",
     "output_type": "stream",
     "text": [
      "error 0.0000000089\n"
     ]
    },
    {
     "name": "stderr",
     "output_type": "stream",
     "text": [
      "/tmp/ipykernel_289/2309631527.py:2: IntegrationWarning: The maximum number of subdivisions (50) has been achieved.\n",
      "  If increasing the limit yields no improvement it is advised to analyze \n",
      "  the integrand in order to determine the difficulties.  If the position of a \n",
      "  local difficulty can be determined (singularity, discontinuity) one will \n",
      "  probably gain from splitting up the interval and calling the integrator \n",
      "  on the subranges.  Perhaps a special-purpose integrator should be used.\n",
      "  quad_result = quad(integrand12, np.NINF, np.inf)[0];\n"
     ]
    }
   ],
   "source": [
    "exact_integral = 2.094395102393195\n",
    "quad_result = quad(integrand12, np.NINF, np.inf)[0];\n",
    "print(f\"error {np.abs(quad_result - exact_integral):.10f}\")"
   ]
  },
  {
   "cell_type": "code",
   "execution_count": 32,
   "id": "221f09fa-ebc7-463a-a7df-c033c5662099",
   "metadata": {},
   "outputs": [],
   "source": [
    "def integrand13(x):\n",
    "    return np.exp(1/x) / (x**2 + 1000)"
   ]
  },
  {
   "cell_type": "code",
   "execution_count": 33,
   "id": "f5df10c5-7c0c-4324-93ed-f3bd5969fb06",
   "metadata": {},
   "outputs": [
    {
     "name": "stdout",
     "output_type": "stream",
     "text": [
      "error 0.0000000000\n"
     ]
    }
   ],
   "source": [
    "exact_integral = 0.05270231551521994\n",
    "quad_result = quad(integrand13, 1, np.inf)[0];\n",
    "print(f\"error {np.abs(quad_result - exact_integral):.10f}\")"
   ]
  },
  {
   "cell_type": "code",
   "execution_count": 34,
   "id": "85166db7-c8ca-42d3-85f3-32cc783435ba",
   "metadata": {},
   "outputs": [],
   "source": [
    "def integrand14(x):\n",
    "    return np.exp(-(x-20)**2)"
   ]
  },
  {
   "cell_type": "code",
   "execution_count": 35,
   "id": "75f19357-7701-4e6a-9b18-0c881c221b06",
   "metadata": {},
   "outputs": [
    {
     "name": "stdout",
     "output_type": "stream",
     "text": [
      "error 1.7724538509\n"
     ]
    }
   ],
   "source": [
    "exact_integral = 1.772453850905516\n",
    "quad_result = quad(integrand14, np.NINF, np.inf)[0];\n",
    "print(f\"error {np.abs(quad_result - exact_integral):.10f}\")"
   ]
  },
  {
   "cell_type": "code",
   "execution_count": 36,
   "id": "8439e76a-496a-4e77-a8bd-c6b9d591bc85",
   "metadata": {},
   "outputs": [],
   "source": [
    "def integrand15(x):\n",
    "    return 2**(-(x+20)**2)"
   ]
  },
  {
   "cell_type": "code",
   "execution_count": 37,
   "id": "b2ea5359-5a9f-4e99-b8cc-d807c2069a1b",
   "metadata": {},
   "outputs": [
    {
     "name": "stdout",
     "output_type": "stream",
     "text": [
      "error 2.1289340334\n"
     ]
    }
   ],
   "source": [
    "exact_integral = 2.128934038862452\n",
    "quad_result = quad(integrand15, np.NINF, np.inf)[0];\n",
    "print(f\"error {np.abs(quad_result - exact_integral):.10f}\")"
   ]
  },
  {
   "cell_type": "code",
   "execution_count": 38,
   "id": "6bc788b4-6de4-4042-beb1-6a1d8d40b610",
   "metadata": {},
   "outputs": [],
   "source": [
    "def integrand15(x):\n",
    "    return np.pi**(-(x+26)**2)"
   ]
  },
  {
   "cell_type": "code",
   "execution_count": 39,
   "id": "4af009c1-27d7-4265-ab41-3503ed111071",
   "metadata": {},
   "outputs": [
    {
     "name": "stdout",
     "output_type": "stream",
     "text": [
      "error 0.0000000000\n"
     ]
    }
   ],
   "source": [
    "exact_integral = 1.656622004651971\n",
    "quad_result = quad(integrand15, np.NINF, np.inf)[0];\n",
    "print(f\"error {np.abs(quad_result - exact_integral):.10f}\")"
   ]
  },
  {
   "cell_type": "code",
   "execution_count": null,
   "id": "f4a6d54e-534d-48f2-ad3e-2eac5306e3c1",
   "metadata": {},
   "outputs": [],
   "source": []
  }
 ],
 "metadata": {
  "kernelspec": {
   "display_name": "Python 3 (ipykernel)",
   "language": "python",
   "name": "python3"
  },
  "language_info": {
   "codemirror_mode": {
    "name": "ipython",
    "version": 3
   },
   "file_extension": ".py",
   "mimetype": "text/x-python",
   "name": "python",
   "nbconvert_exporter": "python",
   "pygments_lexer": "ipython3",
   "version": "3.10.8"
  }
 },
 "nbformat": 4,
 "nbformat_minor": 5
}
